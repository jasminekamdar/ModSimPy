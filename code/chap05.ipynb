{
 "cells": [
  {
   "cell_type": "markdown",
   "metadata": {},
   "source": [
    "# Modeling and Simulation in Python\n",
    "\n",
    "Chapter 5\n",
    "\n",
    "Copyright 2017 Allen Downey\n",
    "\n",
    "License: [Creative Commons Attribution 4.0 International](https://creativecommons.org/licenses/by/4.0)\n"
   ]
  },
  {
   "cell_type": "code",
   "execution_count": 1,
   "metadata": {},
   "outputs": [],
   "source": [
    "# Configure Jupyter so figures appear in the notebook\n",
    "%matplotlib inline\n",
    "\n",
    "# Configure Jupyter to display the assigned value after an assignment\n",
    "%config InteractiveShell.ast_node_interactivity='last_expr_or_assign'\n",
    "\n",
    "# import functions from the modsim.py module\n",
    "from modsim import *"
   ]
  },
  {
   "cell_type": "markdown",
   "metadata": {},
   "source": [
    "## Reading data\n",
    "\n",
    "Pandas is a library that provides tools for reading and processing data.  `read_html` reads a web page from a file or the Internet and creates one `DataFrame` for each table on the page."
   ]
  },
  {
   "cell_type": "code",
   "execution_count": 2,
   "metadata": {},
   "outputs": [],
   "source": [
    "from pandas import read_html"
   ]
  },
  {
   "cell_type": "markdown",
   "metadata": {},
   "source": [
    "The data directory contains a downloaded copy of https://en.wikipedia.org/wiki/World_population_estimates\n",
    "\n",
    "The arguments of `read_html` specify the file to read and how to interpret the tables in the file.  The result, `tables`, is a sequence of `DataFrame` objects; `len(tables)` reports the length of the sequence."
   ]
  },
  {
   "cell_type": "code",
   "execution_count": 3,
   "metadata": {},
   "outputs": [
    {
     "data": {
      "text/plain": [
       "6"
      ]
     },
     "execution_count": 3,
     "metadata": {},
     "output_type": "execute_result"
    }
   ],
   "source": [
    "filename = 'data/World_population_estimates.html'\n",
    "tables = read_html(filename, header=0, index_col=0, decimal='M')\n",
    "len(tables)"
   ]
  },
  {
   "cell_type": "markdown",
   "metadata": {},
   "source": [
    "We can select the `DataFrame` we want using the bracket operator.  The tables are numbered from 0, so `tables[2]` is actually the third table on the page.\n",
    "\n",
    "`head` selects the header and the first five rows."
   ]
  },
  {
   "cell_type": "code",
   "execution_count": 4,
   "metadata": {
    "scrolled": true
   },
   "outputs": [
    {
     "data": {
      "text/html": [
       "<div>\n",
       "<style scoped>\n",
       "    .dataframe tbody tr th:only-of-type {\n",
       "        vertical-align: middle;\n",
       "    }\n",
       "\n",
       "    .dataframe tbody tr th {\n",
       "        vertical-align: top;\n",
       "    }\n",
       "\n",
       "    .dataframe thead th {\n",
       "        text-align: right;\n",
       "    }\n",
       "</style>\n",
       "<table border=\"1\" class=\"dataframe\">\n",
       "  <thead>\n",
       "    <tr style=\"text-align: right;\">\n",
       "      <th></th>\n",
       "      <th>United States Census Bureau (2017)[28]</th>\n",
       "      <th>Population Reference Bureau (1973–2016)[15]</th>\n",
       "      <th>United Nations Department of Economic and Social Affairs (2015)[16]</th>\n",
       "      <th>Maddison (2008)[17]</th>\n",
       "      <th>HYDE (2007)[24]</th>\n",
       "      <th>Tanton (1994)[18]</th>\n",
       "      <th>Biraben (1980)[19]</th>\n",
       "      <th>McEvedy &amp; Jones (1978)[20]</th>\n",
       "      <th>Thomlinson (1975)[21]</th>\n",
       "      <th>Durand (1974)[22]</th>\n",
       "      <th>Clark (1967)[23]</th>\n",
       "    </tr>\n",
       "    <tr>\n",
       "      <th>Year</th>\n",
       "      <th></th>\n",
       "      <th></th>\n",
       "      <th></th>\n",
       "      <th></th>\n",
       "      <th></th>\n",
       "      <th></th>\n",
       "      <th></th>\n",
       "      <th></th>\n",
       "      <th></th>\n",
       "      <th></th>\n",
       "      <th></th>\n",
       "    </tr>\n",
       "  </thead>\n",
       "  <tbody>\n",
       "    <tr>\n",
       "      <th>1950</th>\n",
       "      <td>2557628654</td>\n",
       "      <td>2.516000e+09</td>\n",
       "      <td>2.525149e+09</td>\n",
       "      <td>2.544000e+09</td>\n",
       "      <td>2.527960e+09</td>\n",
       "      <td>2.400000e+09</td>\n",
       "      <td>2.527000e+09</td>\n",
       "      <td>2.500000e+09</td>\n",
       "      <td>2.400000e+09</td>\n",
       "      <td>NaN</td>\n",
       "      <td>2.486000e+09</td>\n",
       "    </tr>\n",
       "    <tr>\n",
       "      <th>1951</th>\n",
       "      <td>2594939877</td>\n",
       "      <td>NaN</td>\n",
       "      <td>2.572851e+09</td>\n",
       "      <td>2.571663e+09</td>\n",
       "      <td>NaN</td>\n",
       "      <td>NaN</td>\n",
       "      <td>NaN</td>\n",
       "      <td>NaN</td>\n",
       "      <td>NaN</td>\n",
       "      <td>NaN</td>\n",
       "      <td>NaN</td>\n",
       "    </tr>\n",
       "    <tr>\n",
       "      <th>1952</th>\n",
       "      <td>2636772306</td>\n",
       "      <td>NaN</td>\n",
       "      <td>2.619292e+09</td>\n",
       "      <td>2.617949e+09</td>\n",
       "      <td>NaN</td>\n",
       "      <td>NaN</td>\n",
       "      <td>NaN</td>\n",
       "      <td>NaN</td>\n",
       "      <td>NaN</td>\n",
       "      <td>NaN</td>\n",
       "      <td>NaN</td>\n",
       "    </tr>\n",
       "    <tr>\n",
       "      <th>1953</th>\n",
       "      <td>2682053389</td>\n",
       "      <td>NaN</td>\n",
       "      <td>2.665865e+09</td>\n",
       "      <td>2.665959e+09</td>\n",
       "      <td>NaN</td>\n",
       "      <td>NaN</td>\n",
       "      <td>NaN</td>\n",
       "      <td>NaN</td>\n",
       "      <td>NaN</td>\n",
       "      <td>NaN</td>\n",
       "      <td>NaN</td>\n",
       "    </tr>\n",
       "    <tr>\n",
       "      <th>1954</th>\n",
       "      <td>2730228104</td>\n",
       "      <td>NaN</td>\n",
       "      <td>2.713172e+09</td>\n",
       "      <td>2.716927e+09</td>\n",
       "      <td>NaN</td>\n",
       "      <td>NaN</td>\n",
       "      <td>NaN</td>\n",
       "      <td>NaN</td>\n",
       "      <td>NaN</td>\n",
       "      <td>NaN</td>\n",
       "      <td>NaN</td>\n",
       "    </tr>\n",
       "  </tbody>\n",
       "</table>\n",
       "</div>"
      ],
      "text/plain": [
       "      United States Census Bureau (2017)[28]  \\\n",
       "Year                                           \n",
       "1950                              2557628654   \n",
       "1951                              2594939877   \n",
       "1952                              2636772306   \n",
       "1953                              2682053389   \n",
       "1954                              2730228104   \n",
       "\n",
       "      Population Reference Bureau (1973–2016)[15]  \\\n",
       "Year                                                \n",
       "1950                                 2.516000e+09   \n",
       "1951                                          NaN   \n",
       "1952                                          NaN   \n",
       "1953                                          NaN   \n",
       "1954                                          NaN   \n",
       "\n",
       "      United Nations Department of Economic and Social Affairs (2015)[16]  \\\n",
       "Year                                                                        \n",
       "1950                                       2.525149e+09                     \n",
       "1951                                       2.572851e+09                     \n",
       "1952                                       2.619292e+09                     \n",
       "1953                                       2.665865e+09                     \n",
       "1954                                       2.713172e+09                     \n",
       "\n",
       "      Maddison (2008)[17]  HYDE (2007)[24]  Tanton (1994)[18]  \\\n",
       "Year                                                            \n",
       "1950         2.544000e+09     2.527960e+09       2.400000e+09   \n",
       "1951         2.571663e+09              NaN                NaN   \n",
       "1952         2.617949e+09              NaN                NaN   \n",
       "1953         2.665959e+09              NaN                NaN   \n",
       "1954         2.716927e+09              NaN                NaN   \n",
       "\n",
       "      Biraben (1980)[19]  McEvedy & Jones (1978)[20]  Thomlinson (1975)[21]  \\\n",
       "Year                                                                          \n",
       "1950        2.527000e+09                2.500000e+09           2.400000e+09   \n",
       "1951                 NaN                         NaN                    NaN   \n",
       "1952                 NaN                         NaN                    NaN   \n",
       "1953                 NaN                         NaN                    NaN   \n",
       "1954                 NaN                         NaN                    NaN   \n",
       "\n",
       "     Durand (1974)[22]  Clark (1967)[23]  \n",
       "Year                                      \n",
       "1950               NaN      2.486000e+09  \n",
       "1951               NaN               NaN  \n",
       "1952               NaN               NaN  \n",
       "1953               NaN               NaN  \n",
       "1954               NaN               NaN  "
      ]
     },
     "execution_count": 4,
     "metadata": {},
     "output_type": "execute_result"
    }
   ],
   "source": [
    "table2 = tables[2]\n",
    "table2.head()"
   ]
  },
  {
   "cell_type": "markdown",
   "metadata": {},
   "source": [
    "`tail` selects the last five rows."
   ]
  },
  {
   "cell_type": "code",
   "execution_count": 5,
   "metadata": {},
   "outputs": [
    {
     "data": {
      "text/html": [
       "<div>\n",
       "<style scoped>\n",
       "    .dataframe tbody tr th:only-of-type {\n",
       "        vertical-align: middle;\n",
       "    }\n",
       "\n",
       "    .dataframe tbody tr th {\n",
       "        vertical-align: top;\n",
       "    }\n",
       "\n",
       "    .dataframe thead th {\n",
       "        text-align: right;\n",
       "    }\n",
       "</style>\n",
       "<table border=\"1\" class=\"dataframe\">\n",
       "  <thead>\n",
       "    <tr style=\"text-align: right;\">\n",
       "      <th></th>\n",
       "      <th>United States Census Bureau (2017)[28]</th>\n",
       "      <th>Population Reference Bureau (1973–2016)[15]</th>\n",
       "      <th>United Nations Department of Economic and Social Affairs (2015)[16]</th>\n",
       "      <th>Maddison (2008)[17]</th>\n",
       "      <th>HYDE (2007)[24]</th>\n",
       "      <th>Tanton (1994)[18]</th>\n",
       "      <th>Biraben (1980)[19]</th>\n",
       "      <th>McEvedy &amp; Jones (1978)[20]</th>\n",
       "      <th>Thomlinson (1975)[21]</th>\n",
       "      <th>Durand (1974)[22]</th>\n",
       "      <th>Clark (1967)[23]</th>\n",
       "    </tr>\n",
       "    <tr>\n",
       "      <th>Year</th>\n",
       "      <th></th>\n",
       "      <th></th>\n",
       "      <th></th>\n",
       "      <th></th>\n",
       "      <th></th>\n",
       "      <th></th>\n",
       "      <th></th>\n",
       "      <th></th>\n",
       "      <th></th>\n",
       "      <th></th>\n",
       "      <th></th>\n",
       "    </tr>\n",
       "  </thead>\n",
       "  <tbody>\n",
       "    <tr>\n",
       "      <th>2012</th>\n",
       "      <td>7013871313</td>\n",
       "      <td>7.057075e+09</td>\n",
       "      <td>7.080072e+09</td>\n",
       "      <td>NaN</td>\n",
       "      <td>NaN</td>\n",
       "      <td>NaN</td>\n",
       "      <td>NaN</td>\n",
       "      <td>NaN</td>\n",
       "      <td>NaN</td>\n",
       "      <td>NaN</td>\n",
       "      <td>NaN</td>\n",
       "    </tr>\n",
       "    <tr>\n",
       "      <th>2013</th>\n",
       "      <td>7092128094</td>\n",
       "      <td>7.136796e+09</td>\n",
       "      <td>7.162119e+09</td>\n",
       "      <td>NaN</td>\n",
       "      <td>NaN</td>\n",
       "      <td>NaN</td>\n",
       "      <td>NaN</td>\n",
       "      <td>NaN</td>\n",
       "      <td>NaN</td>\n",
       "      <td>NaN</td>\n",
       "      <td>NaN</td>\n",
       "    </tr>\n",
       "    <tr>\n",
       "      <th>2014</th>\n",
       "      <td>7169968185</td>\n",
       "      <td>7.238184e+09</td>\n",
       "      <td>7.243784e+09</td>\n",
       "      <td>NaN</td>\n",
       "      <td>NaN</td>\n",
       "      <td>NaN</td>\n",
       "      <td>NaN</td>\n",
       "      <td>NaN</td>\n",
       "      <td>NaN</td>\n",
       "      <td>NaN</td>\n",
       "      <td>NaN</td>\n",
       "    </tr>\n",
       "    <tr>\n",
       "      <th>2015</th>\n",
       "      <td>7247892788</td>\n",
       "      <td>7.336435e+09</td>\n",
       "      <td>7.349472e+09</td>\n",
       "      <td>NaN</td>\n",
       "      <td>NaN</td>\n",
       "      <td>NaN</td>\n",
       "      <td>NaN</td>\n",
       "      <td>NaN</td>\n",
       "      <td>NaN</td>\n",
       "      <td>NaN</td>\n",
       "      <td>NaN</td>\n",
       "    </tr>\n",
       "    <tr>\n",
       "      <th>2016</th>\n",
       "      <td>7325996709</td>\n",
       "      <td>7.418152e+09</td>\n",
       "      <td>NaN</td>\n",
       "      <td>NaN</td>\n",
       "      <td>NaN</td>\n",
       "      <td>NaN</td>\n",
       "      <td>NaN</td>\n",
       "      <td>NaN</td>\n",
       "      <td>NaN</td>\n",
       "      <td>NaN</td>\n",
       "      <td>NaN</td>\n",
       "    </tr>\n",
       "  </tbody>\n",
       "</table>\n",
       "</div>"
      ],
      "text/plain": [
       "      United States Census Bureau (2017)[28]  \\\n",
       "Year                                           \n",
       "2012                              7013871313   \n",
       "2013                              7092128094   \n",
       "2014                              7169968185   \n",
       "2015                              7247892788   \n",
       "2016                              7325996709   \n",
       "\n",
       "      Population Reference Bureau (1973–2016)[15]  \\\n",
       "Year                                                \n",
       "2012                                 7.057075e+09   \n",
       "2013                                 7.136796e+09   \n",
       "2014                                 7.238184e+09   \n",
       "2015                                 7.336435e+09   \n",
       "2016                                 7.418152e+09   \n",
       "\n",
       "      United Nations Department of Economic and Social Affairs (2015)[16]  \\\n",
       "Year                                                                        \n",
       "2012                                       7.080072e+09                     \n",
       "2013                                       7.162119e+09                     \n",
       "2014                                       7.243784e+09                     \n",
       "2015                                       7.349472e+09                     \n",
       "2016                                                NaN                     \n",
       "\n",
       "      Maddison (2008)[17]  HYDE (2007)[24]  Tanton (1994)[18]  \\\n",
       "Year                                                            \n",
       "2012                  NaN              NaN                NaN   \n",
       "2013                  NaN              NaN                NaN   \n",
       "2014                  NaN              NaN                NaN   \n",
       "2015                  NaN              NaN                NaN   \n",
       "2016                  NaN              NaN                NaN   \n",
       "\n",
       "      Biraben (1980)[19]  McEvedy & Jones (1978)[20]  Thomlinson (1975)[21]  \\\n",
       "Year                                                                          \n",
       "2012                 NaN                         NaN                    NaN   \n",
       "2013                 NaN                         NaN                    NaN   \n",
       "2014                 NaN                         NaN                    NaN   \n",
       "2015                 NaN                         NaN                    NaN   \n",
       "2016                 NaN                         NaN                    NaN   \n",
       "\n",
       "     Durand (1974)[22]  Clark (1967)[23]  \n",
       "Year                                      \n",
       "2012               NaN               NaN  \n",
       "2013               NaN               NaN  \n",
       "2014               NaN               NaN  \n",
       "2015               NaN               NaN  \n",
       "2016               NaN               NaN  "
      ]
     },
     "execution_count": 5,
     "metadata": {},
     "output_type": "execute_result"
    }
   ],
   "source": [
    "table2.tail()"
   ]
  },
  {
   "cell_type": "markdown",
   "metadata": {},
   "source": [
    "Long column names are awkard to work with, but we can replace them with abbreviated names."
   ]
  },
  {
   "cell_type": "code",
   "execution_count": 6,
   "metadata": {},
   "outputs": [],
   "source": [
    "table2.columns = ['census', 'prb', 'un', 'maddison', \n",
    "                  'hyde', 'tanton', 'biraben', 'mj', \n",
    "                  'thomlinson', 'durand', 'clark']"
   ]
  },
  {
   "cell_type": "markdown",
   "metadata": {},
   "source": [
    "Here's what the DataFrame looks like now.  "
   ]
  },
  {
   "cell_type": "code",
   "execution_count": 7,
   "metadata": {},
   "outputs": [
    {
     "data": {
      "text/html": [
       "<div>\n",
       "<style scoped>\n",
       "    .dataframe tbody tr th:only-of-type {\n",
       "        vertical-align: middle;\n",
       "    }\n",
       "\n",
       "    .dataframe tbody tr th {\n",
       "        vertical-align: top;\n",
       "    }\n",
       "\n",
       "    .dataframe thead th {\n",
       "        text-align: right;\n",
       "    }\n",
       "</style>\n",
       "<table border=\"1\" class=\"dataframe\">\n",
       "  <thead>\n",
       "    <tr style=\"text-align: right;\">\n",
       "      <th></th>\n",
       "      <th>census</th>\n",
       "      <th>prb</th>\n",
       "      <th>un</th>\n",
       "      <th>maddison</th>\n",
       "      <th>hyde</th>\n",
       "      <th>tanton</th>\n",
       "      <th>biraben</th>\n",
       "      <th>mj</th>\n",
       "      <th>thomlinson</th>\n",
       "      <th>durand</th>\n",
       "      <th>clark</th>\n",
       "    </tr>\n",
       "    <tr>\n",
       "      <th>Year</th>\n",
       "      <th></th>\n",
       "      <th></th>\n",
       "      <th></th>\n",
       "      <th></th>\n",
       "      <th></th>\n",
       "      <th></th>\n",
       "      <th></th>\n",
       "      <th></th>\n",
       "      <th></th>\n",
       "      <th></th>\n",
       "      <th></th>\n",
       "    </tr>\n",
       "  </thead>\n",
       "  <tbody>\n",
       "    <tr>\n",
       "      <th>1950</th>\n",
       "      <td>2557628654</td>\n",
       "      <td>2.516000e+09</td>\n",
       "      <td>2.525149e+09</td>\n",
       "      <td>2.544000e+09</td>\n",
       "      <td>2.527960e+09</td>\n",
       "      <td>2.400000e+09</td>\n",
       "      <td>2.527000e+09</td>\n",
       "      <td>2.500000e+09</td>\n",
       "      <td>2.400000e+09</td>\n",
       "      <td>NaN</td>\n",
       "      <td>2.486000e+09</td>\n",
       "    </tr>\n",
       "    <tr>\n",
       "      <th>1951</th>\n",
       "      <td>2594939877</td>\n",
       "      <td>NaN</td>\n",
       "      <td>2.572851e+09</td>\n",
       "      <td>2.571663e+09</td>\n",
       "      <td>NaN</td>\n",
       "      <td>NaN</td>\n",
       "      <td>NaN</td>\n",
       "      <td>NaN</td>\n",
       "      <td>NaN</td>\n",
       "      <td>NaN</td>\n",
       "      <td>NaN</td>\n",
       "    </tr>\n",
       "    <tr>\n",
       "      <th>1952</th>\n",
       "      <td>2636772306</td>\n",
       "      <td>NaN</td>\n",
       "      <td>2.619292e+09</td>\n",
       "      <td>2.617949e+09</td>\n",
       "      <td>NaN</td>\n",
       "      <td>NaN</td>\n",
       "      <td>NaN</td>\n",
       "      <td>NaN</td>\n",
       "      <td>NaN</td>\n",
       "      <td>NaN</td>\n",
       "      <td>NaN</td>\n",
       "    </tr>\n",
       "    <tr>\n",
       "      <th>1953</th>\n",
       "      <td>2682053389</td>\n",
       "      <td>NaN</td>\n",
       "      <td>2.665865e+09</td>\n",
       "      <td>2.665959e+09</td>\n",
       "      <td>NaN</td>\n",
       "      <td>NaN</td>\n",
       "      <td>NaN</td>\n",
       "      <td>NaN</td>\n",
       "      <td>NaN</td>\n",
       "      <td>NaN</td>\n",
       "      <td>NaN</td>\n",
       "    </tr>\n",
       "    <tr>\n",
       "      <th>1954</th>\n",
       "      <td>2730228104</td>\n",
       "      <td>NaN</td>\n",
       "      <td>2.713172e+09</td>\n",
       "      <td>2.716927e+09</td>\n",
       "      <td>NaN</td>\n",
       "      <td>NaN</td>\n",
       "      <td>NaN</td>\n",
       "      <td>NaN</td>\n",
       "      <td>NaN</td>\n",
       "      <td>NaN</td>\n",
       "      <td>NaN</td>\n",
       "    </tr>\n",
       "  </tbody>\n",
       "</table>\n",
       "</div>"
      ],
      "text/plain": [
       "          census           prb            un      maddison          hyde  \\\n",
       "Year                                                                       \n",
       "1950  2557628654  2.516000e+09  2.525149e+09  2.544000e+09  2.527960e+09   \n",
       "1951  2594939877           NaN  2.572851e+09  2.571663e+09           NaN   \n",
       "1952  2636772306           NaN  2.619292e+09  2.617949e+09           NaN   \n",
       "1953  2682053389           NaN  2.665865e+09  2.665959e+09           NaN   \n",
       "1954  2730228104           NaN  2.713172e+09  2.716927e+09           NaN   \n",
       "\n",
       "            tanton       biraben            mj    thomlinson durand  \\\n",
       "Year                                                                  \n",
       "1950  2.400000e+09  2.527000e+09  2.500000e+09  2.400000e+09    NaN   \n",
       "1951           NaN           NaN           NaN           NaN    NaN   \n",
       "1952           NaN           NaN           NaN           NaN    NaN   \n",
       "1953           NaN           NaN           NaN           NaN    NaN   \n",
       "1954           NaN           NaN           NaN           NaN    NaN   \n",
       "\n",
       "             clark  \n",
       "Year                \n",
       "1950  2.486000e+09  \n",
       "1951           NaN  \n",
       "1952           NaN  \n",
       "1953           NaN  \n",
       "1954           NaN  "
      ]
     },
     "execution_count": 7,
     "metadata": {},
     "output_type": "execute_result"
    }
   ],
   "source": [
    "table2.head()"
   ]
  },
  {
   "cell_type": "markdown",
   "metadata": {},
   "source": [
    "The first column, which is labeled `Year`, is special.  It is the **index** for this `DataFrame`, which means it contains the labels for the rows.\n",
    "\n",
    "Some of the values use scientific notation; for example, `2.544000e+09` is shorthand for $2.544 \\cdot 10^9$ or 2.544 billion.\n",
    "\n",
    "`NaN` is a special value that indicates missing data."
   ]
  },
  {
   "cell_type": "markdown",
   "metadata": {},
   "source": [
    "### Series\n",
    "\n",
    "We can use dot notation to select a column from a `DataFrame`.  The result is a `Series`, which is like a `DataFrame` with a single column."
   ]
  },
  {
   "cell_type": "code",
   "execution_count": 8,
   "metadata": {},
   "outputs": [
    {
     "data": {
      "text/plain": [
       "Year\n",
       "1950    2557628654\n",
       "1951    2594939877\n",
       "1952    2636772306\n",
       "1953    2682053389\n",
       "1954    2730228104\n",
       "Name: census, dtype: int64"
      ]
     },
     "execution_count": 8,
     "metadata": {},
     "output_type": "execute_result"
    }
   ],
   "source": [
    "census = table2.census\n",
    "census.head()"
   ]
  },
  {
   "cell_type": "code",
   "execution_count": 9,
   "metadata": {},
   "outputs": [
    {
     "data": {
      "text/plain": [
       "Year\n",
       "2012    7013871313\n",
       "2013    7092128094\n",
       "2014    7169968185\n",
       "2015    7247892788\n",
       "2016    7325996709\n",
       "Name: census, dtype: int64"
      ]
     },
     "execution_count": 9,
     "metadata": {},
     "output_type": "execute_result"
    }
   ],
   "source": [
    "census.tail()"
   ]
  },
  {
   "cell_type": "markdown",
   "metadata": {},
   "source": [
    "Like a `DataFrame`, a `Series` contains an index, which labels the rows.\n",
    "\n",
    "`1e9` is scientific notation for $1 \\cdot 10^9$ or 1 billion."
   ]
  },
  {
   "cell_type": "markdown",
   "metadata": {},
   "source": [
    "From here on, we will work in units of billions."
   ]
  },
  {
   "cell_type": "code",
   "execution_count": 10,
   "metadata": {},
   "outputs": [
    {
     "data": {
      "text/plain": [
       "Year\n",
       "1950    2.525149\n",
       "1951    2.572851\n",
       "1952    2.619292\n",
       "1953    2.665865\n",
       "1954    2.713172\n",
       "Name: un, dtype: float64"
      ]
     },
     "execution_count": 10,
     "metadata": {},
     "output_type": "execute_result"
    }
   ],
   "source": [
    "un = table2.un / 1e9\n",
    "un.head()"
   ]
  },
  {
   "cell_type": "code",
   "execution_count": 11,
   "metadata": {},
   "outputs": [
    {
     "data": {
      "text/plain": [
       "Year\n",
       "1950    2.557629\n",
       "1951    2.594940\n",
       "1952    2.636772\n",
       "1953    2.682053\n",
       "1954    2.730228\n",
       "Name: census, dtype: float64"
      ]
     },
     "execution_count": 11,
     "metadata": {},
     "output_type": "execute_result"
    }
   ],
   "source": [
    "census = table2.census / 1e9\n",
    "census.head()"
   ]
  },
  {
   "cell_type": "markdown",
   "metadata": {},
   "source": [
    "Here's what these estimates look like."
   ]
  },
  {
   "cell_type": "code",
   "execution_count": 12,
   "metadata": {
    "scrolled": false
   },
   "outputs": [
    {
     "name": "stdout",
     "output_type": "stream",
     "text": [
      "Saving figure to file figs/chap03-fig01.pdf\n"
     ]
    },
    {
     "data": {
      "image/png": "[encoded data removed]",
      "text/plain": [
       "<Figure size 432x288 with 1 Axes>"
      ]
     },
     "metadata": {},
     "output_type": "display_data"
    }
   ],
   "source": [
    "plot(census, ':', label='US Census')\n",
    "plot(un, '--', label='UN DESA')\n",
    "    \n",
    "decorate(xlabel='Year',\n",
    "         ylabel='World population (billion)')\n",
    "savefig('figs/chap03-fig01.pdf')"
   ]
  },
  {
   "cell_type": "markdown",
   "metadata": {},
   "source": [
    "The following expression computes the elementwise differences between the two series, then divides through by the UN value to produce [relative errors](https://en.wikipedia.org/wiki/Approximation_error), then finds the largest element.\n",
    "\n",
    "So the largest relative error between the estimates is about 1.3%."
   ]
  },
  {
   "cell_type": "code",
   "execution_count": 13,
   "metadata": {},
   "outputs": [
    {
     "data": {
      "text/plain": [
       "1.3821293828998855"
      ]
     },
     "execution_count": 13,
     "metadata": {},
     "output_type": "execute_result"
    }
   ],
   "source": [
    "max(abs(census - un) / un) * 100"
   ]
  },
  {
   "cell_type": "markdown",
   "metadata": {},
   "source": [
    "**Exercise:** Break down that expression into smaller steps and display the intermediate results, to make sure you understand how it works.\n",
    "\n",
    "1.  Compute the elementwise differences, `census - un`\n",
    "2.  Compute the absolute differences, `abs(census - un)`\n",
    "3.  Compute the relative differences, `abs(census - un) / un`\n",
    "4.  Compute the percent differences, `abs(census - un) / un * 100`\n"
   ]
  },
  {
   "cell_type": "code",
   "execution_count": 14,
   "metadata": {
    "scrolled": true
   },
   "outputs": [
    {
     "data": {
      "text/plain": [
       "Year\n",
       "1950    0.032480\n",
       "1951    0.022089\n",
       "1952    0.017480\n",
       "1953    0.016188\n",
       "1954    0.017056\n",
       "1955    0.020448\n",
       "1956    0.023728\n",
       "1957    0.028307\n",
       "1958    0.032107\n",
       "1959    0.030321\n",
       "1960    0.016999\n",
       "1961    0.001137\n",
       "1962   -0.000978\n",
       "1963    0.008650\n",
       "1964    0.017462\n",
       "1965    0.021303\n",
       "1966    0.023203\n",
       "1967    0.021812\n",
       "1968    0.020639\n",
       "1969    0.021050\n",
       "1970    0.021525\n",
       "1971    0.023573\n",
       "1972    0.023695\n",
       "1973    0.022914\n",
       "1974    0.021304\n",
       "1975    0.018063\n",
       "1976    0.014049\n",
       "1977    0.011268\n",
       "1978    0.008441\n",
       "1979    0.007486\n",
       "          ...   \n",
       "1987   -0.018115\n",
       "1988   -0.023658\n",
       "1989   -0.028560\n",
       "1990   -0.031861\n",
       "1991   -0.037323\n",
       "1992   -0.038763\n",
       "1993   -0.040597\n",
       "1994   -0.042404\n",
       "1995   -0.042619\n",
       "1996   -0.041576\n",
       "1997   -0.040716\n",
       "1998   -0.040090\n",
       "1999   -0.039403\n",
       "2000   -0.039129\n",
       "2001   -0.038928\n",
       "2002   -0.038837\n",
       "2003   -0.039401\n",
       "2004   -0.040006\n",
       "2005   -0.041050\n",
       "2006   -0.041964\n",
       "2007   -0.043192\n",
       "2008   -0.044599\n",
       "2009   -0.046508\n",
       "2010   -0.057599\n",
       "2011   -0.061999\n",
       "2012   -0.066201\n",
       "2013   -0.069991\n",
       "2014   -0.073816\n",
       "2015   -0.101579\n",
       "2016         NaN\n",
       "Length: 67, dtype: float64"
      ]
     },
     "execution_count": 14,
     "metadata": {},
     "output_type": "execute_result"
    }
   ],
   "source": [
    "census-un"
   ]
  },
  {
   "cell_type": "code",
   "execution_count": 15,
   "metadata": {
    "scrolled": true
   },
   "outputs": [
    {
     "data": {
      "text/plain": [
       "Year\n",
       "1950    0.032480\n",
       "1951    0.022089\n",
       "1952    0.017480\n",
       "1953    0.016188\n",
       "1954    0.017056\n",
       "1955    0.020448\n",
       "1956    0.023728\n",
       "1957    0.028307\n",
       "1958    0.032107\n",
       "1959    0.030321\n",
       "1960    0.016999\n",
       "1961    0.001137\n",
       "1962    0.000978\n",
       "1963    0.008650\n",
       "1964    0.017462\n",
       "1965    0.021303\n",
       "1966    0.023203\n",
       "1967    0.021812\n",
       "1968    0.020639\n",
       "1969    0.021050\n",
       "1970    0.021525\n",
       "1971    0.023573\n",
       "1972    0.023695\n",
       "1973    0.022914\n",
       "1974    0.021304\n",
       "1975    0.018063\n",
       "1976    0.014049\n",
       "1977    0.011268\n",
       "1978    0.008441\n",
       "1979    0.007486\n",
       "          ...   \n",
       "1987    0.018115\n",
       "1988    0.023658\n",
       "1989    0.028560\n",
       "1990    0.031861\n",
       "1991    0.037323\n",
       "1992    0.038763\n",
       "1993    0.040597\n",
       "1994    0.042404\n",
       "1995    0.042619\n",
       "1996    0.041576\n",
       "1997    0.040716\n",
       "1998    0.040090\n",
       "1999    0.039403\n",
       "2000    0.039129\n",
       "2001    0.038928\n",
       "2002    0.038837\n",
       "2003    0.039401\n",
       "2004    0.040006\n",
       "2005    0.041050\n",
       "2006    0.041964\n",
       "2007    0.043192\n",
       "2008    0.044599\n",
       "2009    0.046508\n",
       "2010    0.057599\n",
       "2011    0.061999\n",
       "2012    0.066201\n",
       "2013    0.069991\n",
       "2014    0.073816\n",
       "2015    0.101579\n",
       "2016         NaN\n",
       "Length: 67, dtype: float64"
      ]
     },
     "execution_count": 15,
     "metadata": {},
     "output_type": "execute_result"
    }
   ],
   "source": [
    "abs(census-un)"
   ]
  },
  {
   "cell_type": "code",
   "execution_count": 16,
   "metadata": {
    "scrolled": true
   },
   "outputs": [
    {
     "data": {
      "text/plain": [
       "Year\n",
       "1950    0.012862\n",
       "1951    0.008585\n",
       "1952    0.006674\n",
       "1953    0.006072\n",
       "1954    0.006286\n",
       "1955    0.007404\n",
       "1956    0.008439\n",
       "1957    0.009887\n",
       "1958    0.011011\n",
       "1959    0.010208\n",
       "1960    0.005617\n",
       "1961    0.000369\n",
       "1962    0.000311\n",
       "1963    0.002702\n",
       "1964    0.005350\n",
       "1965    0.006399\n",
       "1966    0.006829\n",
       "1967    0.006289\n",
       "1968    0.005827\n",
       "1969    0.005821\n",
       "1970    0.005832\n",
       "1971    0.006258\n",
       "1972    0.006166\n",
       "1973    0.005847\n",
       "1974    0.005332\n",
       "1975    0.004437\n",
       "1976    0.003388\n",
       "1977    0.002670\n",
       "1978    0.001965\n",
       "1979    0.001712\n",
       "          ...   \n",
       "1987    0.003591\n",
       "1988    0.004604\n",
       "1989    0.005461\n",
       "1990    0.005988\n",
       "1991    0.006900\n",
       "1992    0.007054\n",
       "1993    0.007277\n",
       "1994    0.007490\n",
       "1995    0.007423\n",
       "1996    0.007142\n",
       "1997    0.006903\n",
       "1998    0.006709\n",
       "1999    0.006511\n",
       "2000    0.006386\n",
       "2001    0.006274\n",
       "2002    0.006183\n",
       "2003    0.006197\n",
       "2004    0.006216\n",
       "2005    0.006302\n",
       "2006    0.006365\n",
       "2007    0.006473\n",
       "2008    0.006604\n",
       "2009    0.006805\n",
       "2010    0.008328\n",
       "2011    0.008860\n",
       "2012    0.009350\n",
       "2013    0.009772\n",
       "2014    0.010190\n",
       "2015    0.013821\n",
       "2016         NaN\n",
       "Length: 67, dtype: float64"
      ]
     },
     "execution_count": 16,
     "metadata": {},
     "output_type": "execute_result"
    }
   ],
   "source": [
    "abs(census-un)/un"
   ]
  },
  {
   "cell_type": "code",
   "execution_count": 18,
   "metadata": {},
   "outputs": [
    {
     "data": {
      "text/plain": [
       "Year\n",
       "1950    1.286247\n",
       "1951    0.858540\n",
       "1952    0.667365\n",
       "1953    0.607232\n",
       "1954    0.628640\n",
       "1955    0.740425\n",
       "1956    0.843928\n",
       "1957    0.988701\n",
       "1958    1.101054\n",
       "1959    1.020766\n",
       "1960    0.561750\n",
       "1961    0.036871\n",
       "1962    0.031146\n",
       "1963    0.270201\n",
       "1964    0.535045\n",
       "1965    0.639908\n",
       "1966    0.682939\n",
       "1967    0.628856\n",
       "1968    0.582745\n",
       "1969    0.582126\n",
       "1970    0.583151\n",
       "1971    0.625807\n",
       "1972    0.616597\n",
       "1973    0.584666\n",
       "1974    0.533223\n",
       "1975    0.443692\n",
       "1976    0.338849\n",
       "1977    0.266959\n",
       "1978    0.196499\n",
       "1979    0.171246\n",
       "          ...   \n",
       "1987    0.359053\n",
       "1988    0.460423\n",
       "1989    0.546078\n",
       "1990    0.598794\n",
       "1991    0.690025\n",
       "1992    0.705441\n",
       "1993    0.727689\n",
       "1994    0.749047\n",
       "1995    0.742263\n",
       "1996    0.714242\n",
       "1997    0.690252\n",
       "1998    0.670935\n",
       "1999    0.651132\n",
       "2000    0.638560\n",
       "2001    0.627448\n",
       "2002    0.618347\n",
       "2003    0.619705\n",
       "2004    0.621627\n",
       "2005    0.630170\n",
       "2006    0.636478\n",
       "2007    0.647257\n",
       "2008    0.660376\n",
       "2009    0.680460\n",
       "2010    0.832811\n",
       "2011    0.885957\n",
       "2012    0.935034\n",
       "2013    0.977243\n",
       "2014    1.019023\n",
       "2015    1.382129\n",
       "2016         NaN\n",
       "Length: 67, dtype: float64"
      ]
     },
     "execution_count": 18,
     "metadata": {},
     "output_type": "execute_result"
    }
   ],
   "source": [
    "abs(census-un)/un*100"
   ]
  },
  {
   "cell_type": "markdown",
   "metadata": {},
   "source": [
    "`max` and `abs` are built-in functions provided by Python, but NumPy also provides version that are a little more general.  When you import `modsim`, you get the NumPy versions of these functions."
   ]
  },
  {
   "cell_type": "markdown",
   "metadata": {},
   "source": [
    "### Constant growth"
   ]
  },
  {
   "cell_type": "markdown",
   "metadata": {},
   "source": [
    "We can select a value from a `Series` using bracket notation.  Here's the first element:"
   ]
  },
  {
   "cell_type": "code",
   "execution_count": 19,
   "metadata": {},
   "outputs": [
    {
     "data": {
      "text/plain": [
       "2.557628654"
      ]
     },
     "execution_count": 19,
     "metadata": {},
     "output_type": "execute_result"
    }
   ],
   "source": [
    "census[1950]"
   ]
  },
  {
   "cell_type": "markdown",
   "metadata": {},
   "source": [
    "And the last value."
   ]
  },
  {
   "cell_type": "code",
   "execution_count": 20,
   "metadata": {},
   "outputs": [
    {
     "data": {
      "text/plain": [
       "7.325996709"
      ]
     },
     "execution_count": 20,
     "metadata": {},
     "output_type": "execute_result"
    }
   ],
   "source": [
    "census[2016]"
   ]
  },
  {
   "cell_type": "markdown",
   "metadata": {},
   "source": [
    "But rather than \"hard code\" those dates, we can get the first and last labels from the `Series`:"
   ]
  },
  {
   "cell_type": "code",
   "execution_count": 21,
   "metadata": {},
   "outputs": [
    {
     "data": {
      "text/plain": [
       "1950"
      ]
     },
     "execution_count": 21,
     "metadata": {},
     "output_type": "execute_result"
    }
   ],
   "source": [
    "t_0 = get_first_label(census)"
   ]
  },
  {
   "cell_type": "code",
   "execution_count": 22,
   "metadata": {},
   "outputs": [
    {
     "data": {
      "text/plain": [
       "2016"
      ]
     },
     "execution_count": 22,
     "metadata": {},
     "output_type": "execute_result"
    }
   ],
   "source": [
    "t_end = get_last_label(census)"
   ]
  },
  {
   "cell_type": "code",
   "execution_count": 23,
   "metadata": {},
   "outputs": [
    {
     "data": {
      "text/plain": [
       "66"
      ]
     },
     "execution_count": 23,
     "metadata": {},
     "output_type": "execute_result"
    }
   ],
   "source": [
    "elapsed_time = t_end - t_0"
   ]
  },
  {
   "cell_type": "markdown",
   "metadata": {},
   "source": [
    "And we can get the first and last values:"
   ]
  },
  {
   "cell_type": "code",
   "execution_count": 24,
   "metadata": {},
   "outputs": [
    {
     "data": {
      "text/plain": [
       "2.557628654"
      ]
     },
     "execution_count": 24,
     "metadata": {},
     "output_type": "execute_result"
    }
   ],
   "source": [
    "p_0 = get_first_value(census)"
   ]
  },
  {
   "cell_type": "code",
   "execution_count": 25,
   "metadata": {},
   "outputs": [
    {
     "data": {
      "text/plain": [
       "7.325996709"
      ]
     },
     "execution_count": 25,
     "metadata": {},
     "output_type": "execute_result"
    }
   ],
   "source": [
    "p_end = get_last_value(census)"
   ]
  },
  {
   "cell_type": "markdown",
   "metadata": {},
   "source": [
    "Then we can compute the average annual growth in billions of people per year."
   ]
  },
  {
   "cell_type": "code",
   "execution_count": 26,
   "metadata": {},
   "outputs": [
    {
     "data": {
      "text/plain": [
       "4.768368055"
      ]
     },
     "execution_count": 26,
     "metadata": {},
     "output_type": "execute_result"
    }
   ],
   "source": [
    "total_growth = p_end - p_0"
   ]
  },
  {
   "cell_type": "code",
   "execution_count": 27,
   "metadata": {},
   "outputs": [
    {
     "data": {
      "text/plain": [
       "0.07224800083333333"
      ]
     },
     "execution_count": 27,
     "metadata": {},
     "output_type": "execute_result"
    }
   ],
   "source": [
    "annual_growth = total_growth / elapsed_time"
   ]
  },
  {
   "cell_type": "markdown",
   "metadata": {},
   "source": [
    "### TimeSeries"
   ]
  },
  {
   "cell_type": "markdown",
   "metadata": {},
   "source": [
    "Now let's create a `TimeSeries` to contain values generated by a linear growth model."
   ]
  },
  {
   "cell_type": "code",
   "execution_count": 28,
   "metadata": {},
   "outputs": [
    {
     "data": {
      "text/html": [
       "<div>\n",
       "<style scoped>\n",
       "    .dataframe tbody tr th:only-of-type {\n",
       "        vertical-align: middle;\n",
       "    }\n",
       "\n",
       "    .dataframe tbody tr th {\n",
       "        vertical-align: top;\n",
       "    }\n",
       "\n",
       "    .dataframe thead th {\n",
       "        text-align: right;\n",
       "    }\n",
       "</style>\n",
       "<table border=\"1\" class=\"dataframe\">\n",
       "  <thead>\n",
       "    <tr style=\"text-align: right;\">\n",
       "      <th></th>\n",
       "      <th>values</th>\n",
       "    </tr>\n",
       "  </thead>\n",
       "  <tbody>\n",
       "  </tbody>\n",
       "</table>\n",
       "</div>"
      ],
      "text/plain": [
       "Series([], dtype: float64)"
      ]
     },
     "execution_count": 28,
     "metadata": {},
     "output_type": "execute_result"
    }
   ],
   "source": [
    "results = TimeSeries()"
   ]
  },
  {
   "cell_type": "markdown",
   "metadata": {},
   "source": [
    "Initially the `TimeSeries` is empty, but we can initialize it so the starting value, in 1950, is the 1950 population estimated by the US Census."
   ]
  },
  {
   "cell_type": "code",
   "execution_count": 29,
   "metadata": {},
   "outputs": [
    {
     "data": {
      "text/html": [
       "<div>\n",
       "<style scoped>\n",
       "    .dataframe tbody tr th:only-of-type {\n",
       "        vertical-align: middle;\n",
       "    }\n",
       "\n",
       "    .dataframe tbody tr th {\n",
       "        vertical-align: top;\n",
       "    }\n",
       "\n",
       "    .dataframe thead th {\n",
       "        text-align: right;\n",
       "    }\n",
       "</style>\n",
       "<table border=\"1\" class=\"dataframe\">\n",
       "  <thead>\n",
       "    <tr style=\"text-align: right;\">\n",
       "      <th></th>\n",
       "      <th>values</th>\n",
       "    </tr>\n",
       "  </thead>\n",
       "  <tbody>\n",
       "    <tr>\n",
       "      <th>1950</th>\n",
       "      <td>2.557629</td>\n",
       "    </tr>\n",
       "  </tbody>\n",
       "</table>\n",
       "</div>"
      ],
      "text/plain": [
       "1950    2.557629\n",
       "dtype: float64"
      ]
     },
     "execution_count": 29,
     "metadata": {},
     "output_type": "execute_result"
    }
   ],
   "source": [
    "results[t_0] = census[t_0]\n",
    "results"
   ]
  },
  {
   "cell_type": "markdown",
   "metadata": {},
   "source": [
    "After that, the population in the model grows by a constant amount each year."
   ]
  },
  {
   "cell_type": "code",
   "execution_count": 30,
   "metadata": {},
   "outputs": [],
   "source": [
    "for t in linrange(t_0, t_end):\n",
    "    results[t+1] = results[t] + annual_growth"
   ]
  },
  {
   "cell_type": "markdown",
   "metadata": {},
   "source": [
    "Here's what the results looks like, compared to the actual data."
   ]
  },
  {
   "cell_type": "code",
   "execution_count": 31,
   "metadata": {},
   "outputs": [
    {
     "name": "stdout",
     "output_type": "stream",
     "text": [
      "Saving figure to file figs/chap03-fig02.pdf\n"
     ]
    },
    {
     "data": {
      "image/png": "[encoded data removed]",
      "text/plain": [
       "<Figure size 432x288 with 1 Axes>"
      ]
     },
     "metadata": {},
     "output_type": "display_data"
    }
   ],
   "source": [
    "plot(census, ':', label='US Census')\n",
    "plot(un, '--', label='UN DESA')\n",
    "plot(results, color='gray', label='model')\n",
    "\n",
    "decorate(xlabel='Year', \n",
    "         ylabel='World population (billion)',\n",
    "         title='Constant growth')\n",
    "savefig('figs/chap03-fig02.pdf')"
   ]
  },
  {
   "cell_type": "markdown",
   "metadata": {},
   "source": [
    "The model fits the data pretty well after 1990, but not so well before."
   ]
  },
  {
   "cell_type": "markdown",
   "metadata": {},
   "source": [
    "### Exercises\n",
    "\n",
    "**Optional Exercise:**  Try fitting the model using data from 1970 to the present, and see if that does a better job.\n",
    "\n",
    "Hint: \n",
    "\n",
    "1. Copy the code from above and make a few changes.  Test your code after each small change.\n",
    "\n",
    "2. Make sure your `TimeSeries` starts in 1950, even though the estimated annual growth is based on later data.\n",
    "\n",
    "3. You might want to add a constant to the starting value to match the data better."
   ]
  },
  {
   "cell_type": "code",
   "execution_count": 38,
   "metadata": {},
   "outputs": [
    {
     "ename": "NameError",
     "evalue": "name 't_20' is not defined",
     "output_type": "error",
     "traceback": [
      "\u001b[1;31m---------------------------------------------------------------------------\u001b[0m",
      "\u001b[1;31mNameError\u001b[0m                                 Traceback (most recent call last)",
      "\u001b[1;32m<ipython-input-38-91d8fbeb8506>\u001b[0m in \u001b[0;36m<module>\u001b[1;34m()\u001b[0m\n\u001b[1;32m----> 1\u001b[1;33m \u001b[1;32mfor\u001b[0m \u001b[0mt\u001b[0m \u001b[1;32min\u001b[0m \u001b[0mlinrange\u001b[0m\u001b[1;33m(\u001b[0m\u001b[0mt_20\u001b[0m\u001b[1;33m,\u001b[0m \u001b[0mt_end\u001b[0m\u001b[1;33m)\u001b[0m\u001b[1;33m:\u001b[0m\u001b[1;33m\u001b[0m\u001b[0m\n\u001b[0m\u001b[0;32m      2\u001b[0m     \u001b[0mresults\u001b[0m\u001b[1;33m[\u001b[0m\u001b[0mt\u001b[0m\u001b[1;33m+\u001b[0m\u001b[1;36m1\u001b[0m\u001b[1;33m]\u001b[0m \u001b[1;33m=\u001b[0m \u001b[0mresults\u001b[0m\u001b[1;33m[\u001b[0m\u001b[0mt\u001b[0m\u001b[1;33m]\u001b[0m \u001b[1;33m+\u001b[0m \u001b[0mannual_growth\u001b[0m\u001b[1;33m\u001b[0m\u001b[0m\n\u001b[0;32m      3\u001b[0m \u001b[1;33m\u001b[0m\u001b[0m\n\u001b[0;32m      4\u001b[0m \u001b[0mplot\u001b[0m\u001b[1;33m(\u001b[0m\u001b[0mcensus\u001b[0m\u001b[1;33m[\u001b[0m\u001b[1;36m1970\u001b[0m\u001b[1;33m]\u001b[0m\u001b[1;33m,\u001b[0m\u001b[0mt_end\u001b[0m\u001b[1;33m,\u001b[0m \u001b[1;34m':'\u001b[0m\u001b[1;33m,\u001b[0m \u001b[0mlabel\u001b[0m\u001b[1;33m=\u001b[0m\u001b[1;34m'US Census'\u001b[0m\u001b[1;33m)\u001b[0m\u001b[1;33m\u001b[0m\u001b[0m\n\u001b[0;32m      5\u001b[0m \u001b[0mplot\u001b[0m\u001b[1;33m(\u001b[0m\u001b[0mun\u001b[0m\u001b[1;33m,\u001b[0m \u001b[1;34m'--'\u001b[0m\u001b[1;33m,\u001b[0m \u001b[0mlabel\u001b[0m\u001b[1;33m=\u001b[0m\u001b[1;34m'UN DESA'\u001b[0m\u001b[1;33m)\u001b[0m\u001b[1;33m\u001b[0m\u001b[0m\n",
      "\u001b[1;31mNameError\u001b[0m: name 't_20' is not defined"
     ]
    }
   ],
   "source": [
    "for t in linrange(t_20, t_end):\n",
    "    results[t+1] = results[t] + annual_growth\n",
    "    \n",
    "plot(census[1970],t_end, ':', label='US Census')\n",
    "plot(un, '--', label='UN DESA')\n",
    "plot(results, color='gray', label='model')\n",
    "\n",
    "decorate(xlabel='Year', \n",
    "         ylabel='World population (billion)',\n",
    "         title='Constant growth')\n",
    "savefig('figs/chap03-fig02.pdf')\n"
   ]
  },
  {
   "cell_type": "code",
   "execution_count": null,
   "metadata": {},
   "outputs": [],
   "source": []
  }
 ],
 "metadata": {
  "kernelspec": {
   "display_name": "Python 3",
   "language": "python",
   "name": "python3"
  },
  "language_info": {
   "codemirror_mode": {
    "name": "ipython",
    "version": 3
   },
   "file_extension": ".py",
   "mimetype": "text/x-python",
   "name": "python",
   "nbconvert_exporter": "python",
   "pygments_lexer": "ipython3",
   "version": "3.6.5"
  }
 },
 "nbformat": 4,
 "nbformat_minor": 2
}
